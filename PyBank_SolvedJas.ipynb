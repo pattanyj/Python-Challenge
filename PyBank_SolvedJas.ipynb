{
 "cells": [
  {
   "cell_type": "code",
   "execution_count": 1,
   "metadata": {},
   "outputs": [],
   "source": [
    "import pandas as pd"
   ]
  },
  {
   "cell_type": "code",
   "execution_count": 2,
   "metadata": {},
   "outputs": [
    {
     "data": {
      "text/html": [
       "<div>\n",
       "<style scoped>\n",
       "    .dataframe tbody tr th:only-of-type {\n",
       "        vertical-align: middle;\n",
       "    }\n",
       "\n",
       "    .dataframe tbody tr th {\n",
       "        vertical-align: top;\n",
       "    }\n",
       "\n",
       "    .dataframe thead th {\n",
       "        text-align: right;\n",
       "    }\n",
       "</style>\n",
       "<table border=\"1\" class=\"dataframe\">\n",
       "  <thead>\n",
       "    <tr style=\"text-align: right;\">\n",
       "      <th></th>\n",
       "      <th>Date</th>\n",
       "      <th>Profit/Losses</th>\n",
       "    </tr>\n",
       "  </thead>\n",
       "  <tbody>\n",
       "    <tr>\n",
       "      <td>0</td>\n",
       "      <td>Jan-2010</td>\n",
       "      <td>867884</td>\n",
       "    </tr>\n",
       "    <tr>\n",
       "      <td>1</td>\n",
       "      <td>Feb-2010</td>\n",
       "      <td>984655</td>\n",
       "    </tr>\n",
       "    <tr>\n",
       "      <td>2</td>\n",
       "      <td>Mar-2010</td>\n",
       "      <td>322013</td>\n",
       "    </tr>\n",
       "    <tr>\n",
       "      <td>3</td>\n",
       "      <td>Apr-2010</td>\n",
       "      <td>-69417</td>\n",
       "    </tr>\n",
       "    <tr>\n",
       "      <td>4</td>\n",
       "      <td>May-2010</td>\n",
       "      <td>310503</td>\n",
       "    </tr>\n",
       "  </tbody>\n",
       "</table>\n",
       "</div>"
      ],
      "text/plain": [
       "       Date  Profit/Losses\n",
       "0  Jan-2010         867884\n",
       "1  Feb-2010         984655\n",
       "2  Mar-2010         322013\n",
       "3  Apr-2010         -69417\n",
       "4  May-2010         310503"
      ]
     },
     "execution_count": 2,
     "metadata": {},
     "output_type": "execute_result"
    }
   ],
   "source": [
    "# The path to our CSV file\n",
    "file = \"PyBank/Resources/budget_data.csv\"\n",
    "\n",
    "# Read our Kickstarter data into pandas\n",
    "df = pd.read_csv(file)\n",
    "df.head()"
   ]
  },
  {
   "cell_type": "code",
   "execution_count": 3,
   "metadata": {},
   "outputs": [
    {
     "name": "stdout",
     "output_type": "stream",
     "text": [
      "86\n"
     ]
    }
   ],
   "source": [
    "#The total number of months included in the dataset\n",
    "num_of_months=df[\"Date\"].count()\n",
    "print(num_of_months)"
   ]
  },
  {
   "cell_type": "code",
   "execution_count": 4,
   "metadata": {},
   "outputs": [
    {
     "data": {
      "text/plain": [
       "38382578"
      ]
     },
     "execution_count": 4,
     "metadata": {},
     "output_type": "execute_result"
    }
   ],
   "source": [
    "#The net total amount of \"Profit/Losses\" over the entire period\n",
    "total_profit_loss= df[\"Profit/Losses\"].sum()\n",
    "total_profit_loss"
   ]
  },
  {
   "cell_type": "code",
   "execution_count": 5,
   "metadata": {},
   "outputs": [
    {
     "data": {
      "text/plain": [
       "446309.0465116279"
      ]
     },
     "execution_count": 5,
     "metadata": {},
     "output_type": "execute_result"
    }
   ],
   "source": [
    "#The average of the changes in \"Profit/Losses\" over the entire period\n",
    "avg_profit_loss=df[\"Profit/Losses\"].mean()\n",
    "avg_profit_loss"
   ]
  },
  {
   "cell_type": "code",
   "execution_count": 6,
   "metadata": {},
   "outputs": [
    {
     "name": "stdout",
     "output_type": "stream",
     "text": [
      "1170593\n",
      "Feb-2012\n"
     ]
    }
   ],
   "source": [
    "#The greatest increase in profits (date and amount) over the entire period\n",
    "max_increase=df[\"Profit/Losses\"].max()\n",
    "\n",
    "print(max_increase)\n",
    "\n",
    "greatest_increase_month = df.loc[df['Profit/Losses'] == max_increase, 'Date']\n",
    "max_month=greatest_increase_month.values[0]\n",
    "# Print the result \n",
    "print(max_month)"
   ]
  },
  {
   "cell_type": "code",
   "execution_count": 7,
   "metadata": {},
   "outputs": [
    {
     "name": "stdout",
     "output_type": "stream",
     "text": [
      "-1196225\n",
      "Sep-2013\n"
     ]
    }
   ],
   "source": [
    "#The greatest decrease in losses (date and amount) over the entire period\n",
    "min_decrease=df[\"Profit/Losses\"].min()\n",
    "\n",
    "print(min_decrease)\n",
    "\n",
    "min_decrease_month = df.loc[df['Profit/Losses'] == min_decrease, 'Date']\n",
    "min_month=min_decrease_month.values[0]\n",
    "# Print the result \n",
    "print(min_month) \n"
   ]
  },
  {
   "cell_type": "code",
   "execution_count": 8,
   "metadata": {},
   "outputs": [
    {
     "name": "stdout",
     "output_type": "stream",
     "text": [
      "Financial Analysis\n",
      " \n",
      "Number of Months : $86\n",
      "Total : $38382578\n",
      "Average Change : $446309.0465116279\n",
      "Greatest Increase in Profits and Date : $1170593 on Feb-2012\n",
      "Greatest Decrease in Profits and Date : $-1196225 on Sep-2013\n"
     ]
    }
   ],
   "source": [
    "a=\"Financial Analysis\"\n",
    "b=\" \"\n",
    "c=\"Number of Months : $\"+ str(num_of_months)\n",
    "d=\"Total : $\"+ str(total_profit_loss)\n",
    "e=\"Average Change : $\" + str(avg_profit_loss)\n",
    "f=\"Greatest Increase in Profits and Date : $\" + str(max_increase)+ \" on \" +str(max_month)\n",
    "g=\"Greatest Decrease in Profits and Date : $\" + str(min_decrease) + \" on \" + str(min_month)\n",
    "\n",
    "print(a)\n",
    "print(b)\n",
    "print(c)\n",
    "print(d)\n",
    "print(e)\n",
    "print(f)\n",
    "print(g)"
   ]
  },
  {
   "cell_type": "code",
   "execution_count": 9,
   "metadata": {},
   "outputs": [
    {
     "data": {
      "text/html": [
       "<div>\n",
       "<style scoped>\n",
       "    .dataframe tbody tr th:only-of-type {\n",
       "        vertical-align: middle;\n",
       "    }\n",
       "\n",
       "    .dataframe tbody tr th {\n",
       "        vertical-align: top;\n",
       "    }\n",
       "\n",
       "    .dataframe thead th {\n",
       "        text-align: right;\n",
       "    }\n",
       "</style>\n",
       "<table border=\"1\" class=\"dataframe\">\n",
       "  <thead>\n",
       "    <tr style=\"text-align: right;\">\n",
       "      <th></th>\n",
       "      <th>0</th>\n",
       "    </tr>\n",
       "  </thead>\n",
       "  <tbody>\n",
       "    <tr>\n",
       "      <td>0</td>\n",
       "      <td>Financial Analysis</td>\n",
       "    </tr>\n",
       "    <tr>\n",
       "      <td>1</td>\n",
       "      <td></td>\n",
       "    </tr>\n",
       "    <tr>\n",
       "      <td>2</td>\n",
       "      <td>Number of Months : $86</td>\n",
       "    </tr>\n",
       "    <tr>\n",
       "      <td>3</td>\n",
       "      <td>Total : $38382578</td>\n",
       "    </tr>\n",
       "    <tr>\n",
       "      <td>4</td>\n",
       "      <td>Average Change : $446309.0465116279</td>\n",
       "    </tr>\n",
       "    <tr>\n",
       "      <td>5</td>\n",
       "      <td>Greatest Increase in Profits and Date : $11705...</td>\n",
       "    </tr>\n",
       "    <tr>\n",
       "      <td>6</td>\n",
       "      <td>Greatest Decrease in Profits and Date : $-1196...</td>\n",
       "    </tr>\n",
       "  </tbody>\n",
       "</table>\n",
       "</div>"
      ],
      "text/plain": [
       "                                                   0\n",
       "0                                 Financial Analysis\n",
       "1                                                   \n",
       "2                             Number of Months : $86\n",
       "3                                  Total : $38382578\n",
       "4                Average Change : $446309.0465116279\n",
       "5  Greatest Increase in Profits and Date : $11705...\n",
       "6  Greatest Decrease in Profits and Date : $-1196..."
      ]
     },
     "execution_count": 9,
     "metadata": {},
     "output_type": "execute_result"
    }
   ],
   "source": [
    "#Create Dataframe\n",
    "info=[a,b,c,d,e,f,g]\n",
    "df_export=pd.DataFrame(info)\n",
    "df_export"
   ]
  },
  {
   "cell_type": "code",
   "execution_count": 10,
   "metadata": {},
   "outputs": [],
   "source": [
    "#export\n",
    "df_export.to_csv(\"Financial_Analysis_Jas_Final\",index=False,header=False)"
   ]
  },
  {
   "cell_type": "code",
   "execution_count": null,
   "metadata": {},
   "outputs": [],
   "source": []
  }
 ],
 "metadata": {
  "kernelspec": {
   "display_name": "Python 3",
   "language": "python",
   "name": "python3"
  },
  "language_info": {
   "codemirror_mode": {
    "name": "ipython",
    "version": 3
   },
   "file_extension": ".py",
   "mimetype": "text/x-python",
   "name": "python",
   "nbconvert_exporter": "python",
   "pygments_lexer": "ipython3",
   "version": "3.7.4"
  }
 },
 "nbformat": 4,
 "nbformat_minor": 2
}
